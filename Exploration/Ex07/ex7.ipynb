{
 "cells": [
  {
   "cell_type": "code",
   "execution_count": 1,
   "id": "aa99e46e",
   "metadata": {},
   "outputs": [
    {
     "name": "stderr",
     "output_type": "stream",
     "text": [
      "Matplotlib is building the font cache; this may take a moment.\n"
     ]
    },
    {
     "name": "stdout",
     "output_type": "stream",
     "text": [
      "Downloading https://www.cs.toronto.edu/~kriz/cifar-10-python.tar.gz to ./data/cifar-10-python.tar.gz\n"
     ]
    },
    {
     "data": {
      "application/vnd.jupyter.widget-view+json": {
       "model_id": "c7d831f3255240cd9f334025d48dd107",
       "version_major": 2,
       "version_minor": 0
      },
      "text/plain": [
       "  0%|          | 0/170498071 [00:00<?, ?it/s]"
      ]
     },
     "metadata": {},
     "output_type": "display_data"
    },
    {
     "name": "stdout",
     "output_type": "stream",
     "text": [
      "Extracting ./data/cifar-10-python.tar.gz to ./data\n"
     ]
    }
   ],
   "source": [
    "import torchvision\n",
    "import torchvision.transforms as transforms\n",
    "import matplotlib.pyplot as plt\n",
    "import numpy as np\n",
    "\n",
    "# CIFAR-10 클래스 이름\n",
    "classes = ['airplane','automobile','bird','cat','deer',\n",
    "           'dog','frog','horse','ship','truck']\n",
    "\n",
    "# CIFAR-10 테스트셋 불러오기\n",
    "transform = transforms.ToTensor()\n",
    "testset = torchvision.datasets.CIFAR10(root='./data', train=False,\n",
    "                                       download=True, transform=transform)\n",
    "\n",
    "# 이미지 출력 함수\n",
    "def show_image(idx):\n",
    "    image, label = testset[idx]\n",
    "    npimg = image.numpy()\n",
    "    plt.imshow(np.transpose(npimg, (1, 2, 0)))\n",
    "    plt.title(f\"Original Label: {classes[label]} (Index: {idx})\")\n",
    "    plt.axis('off')\n",
    "    plt.show()"
   ]
  },
  {
   "cell_type": "code",
   "execution_count": 4,
   "id": "c1e0be57",
   "metadata": {},
   "outputs": [
    {
     "data": {
      "image/png": "[encoded data removed]",
      "text/plain": [
       "<Figure size 432x288 with 1 Axes>"
      ]
     },
     "metadata": {
      "needs_background": "light"
     },
     "output_type": "display_data"
    }
   ],
   "source": [
    "idx = 3845\n",
    "show_image(idx)"
   ]
  },
  {
   "cell_type": "code",
   "execution_count": 6,
   "id": "b6621f96",
   "metadata": {},
   "outputs": [
    {
     "data": {
      "image/png": "[encoded data removed]",
      "text/plain": [
       "<Figure size 432x288 with 1 Axes>"
      ]
     },
     "metadata": {
      "needs_background": "light"
     },
     "output_type": "display_data"
    }
   ],
   "source": [
    "show_image(2405)"
   ]
  },
  {
   "cell_type": "code",
   "execution_count": 8,
   "id": "a4bf76b5",
   "metadata": {},
   "outputs": [
    {
     "name": "stdout",
     "output_type": "stream",
     "text": [
      "Collecting keras-tuner\n",
      "  Downloading keras_tuner-1.4.7-py3-none-any.whl (129 kB)\n",
      "     |████████████████████████████████| 129 kB 8.1 MB/s            \n",
      "\u001b[?25hRequirement already satisfied: packaging in /opt/conda/lib/python3.9/site-packages (from keras-tuner) (21.3)\n",
      "Requirement already satisfied: keras in /opt/conda/lib/python3.9/site-packages (from keras-tuner) (2.6.0)\n",
      "Collecting kt-legacy\n",
      "  Downloading kt_legacy-1.0.5-py3-none-any.whl (9.6 kB)\n",
      "Requirement already satisfied: requests in /opt/conda/lib/python3.9/site-packages (from keras-tuner) (2.26.0)\n",
      "Requirement already satisfied: pyparsing!=3.0.5,>=2.0.2 in /opt/conda/lib/python3.9/site-packages (from packaging->keras-tuner) (3.0.6)\n",
      "Requirement already satisfied: charset-normalizer~=2.0.0 in /opt/conda/lib/python3.9/site-packages (from requests->keras-tuner) (2.0.8)\n",
      "Requirement already satisfied: urllib3<1.27,>=1.21.1 in /opt/conda/lib/python3.9/site-packages (from requests->keras-tuner) (1.26.7)\n",
      "Requirement already satisfied: idna<4,>=2.5 in /opt/conda/lib/python3.9/site-packages (from requests->keras-tuner) (2.10)\n",
      "Requirement already satisfied: certifi>=2017.4.17 in /opt/conda/lib/python3.9/site-packages (from requests->keras-tuner) (2021.10.8)\n",
      "Installing collected packages: kt-legacy, keras-tuner\n",
      "Successfully installed keras-tuner-1.4.7 kt-legacy-1.0.5\n",
      "\u001b[33mWARNING: Running pip as the 'root' user can result in broken permissions and conflicting behaviour with the system package manager. It is recommended to use a virtual environment instead: https://pip.pypa.io/warnings/venv\u001b[0m\n"
     ]
    }
   ],
   "source": [
    "!pip install keras-tuner"
   ]
  },
  {
   "cell_type": "code",
   "execution_count": 10,
   "id": "ddef33ff",
   "metadata": {},
   "outputs": [],
   "source": [
    "#Step 1: 모델 빌더 함수 정의\n",
    "import tensorflow as tf\n",
    "from tensorflow import keras\n",
    "from tensorflow.keras import layers\n",
    "from keras_tuner.tuners import RandomSearch\n",
    "\n",
    "def build_model(hp):\n",
    "    model = keras.Sequential()\n",
    "    \n",
    "    # 첫 번째 Conv 레이어\n",
    "    model.add(layers.Conv2D(\n",
    "        filters=hp.Choice('conv1_filters', [16, 32, 64]),\n",
    "        kernel_size=3,\n",
    "        activation='relu',\n",
    "        input_shape=(32, 32, 3),\n",
    "        padding='same'))\n",
    "    \n",
    "    model.add(layers.AveragePooling2D())\n",
    "    model.add(layers.BatchNormalization())\n",
    "    \n",
    "    # 두 번째 Conv 레이어\n",
    "    model.add(layers.Conv2D(\n",
    "        filters=hp.Choice('conv2_filters', [32, 64, 128]),\n",
    "        kernel_size=3,\n",
    "        activation='relu',\n",
    "        padding='valid'))\n",
    "    \n",
    "    model.add(layers.AveragePooling2D())\n",
    "    model.add(layers.BatchNormalization())\n",
    "    \n",
    "    model.add(layers.Flatten())\n",
    "    \n",
    "    # Dense Layer\n",
    "    model.add(layers.Dense(\n",
    "        units=hp.Choice('dense_units', [128, 256, 512]),\n",
    "        activation='relu'))\n",
    "    \n",
    "    model.add(layers.Dropout(0.5))\n",
    "    model.add(layers.Dense(10, activation='softmax'))\n",
    "\n",
    "    model.compile(\n",
    "        optimizer='adam',\n",
    "        loss='sparse_categorical_crossentropy',\n",
    "        metrics=['accuracy'])\n",
    "\n",
    "    return model\n"
   ]
  },
  {
   "cell_type": "code",
   "execution_count": 11,
   "id": "2e31b8d5",
   "metadata": {},
   "outputs": [],
   "source": [
    "#Step 2: KerasTuner로 하이퍼파라미터 튜닝\n",
    "from kerastuner.tuners import RandomSearch\n",
    "\n",
    "tuner = RandomSearch(\n",
    "    build_model,\n",
    "    objective='val_accuracy',\n",
    "    max_trials=5,\n",
    "    directory='my_dir',\n",
    "    project_name='cifar10_tuning')\n"
   ]
  },
  {
   "cell_type": "code",
   "execution_count": 12,
   "id": "4020476c",
   "metadata": {},
   "outputs": [
    {
     "name": "stdout",
     "output_type": "stream",
     "text": [
      "Trial 5 Complete [00h 00m 51s]\n",
      "val_accuracy: 0.7189000248908997\n",
      "\n",
      "Best val_accuracy So Far: 0.7192999720573425\n",
      "Total elapsed time: 00h 05m 03s\n"
     ]
    }
   ],
   "source": [
    "#Step 3: CIFAR-10 데이터로 튜닝 시작\n",
    "(x_train, y_train), (x_test, y_test) = tf.keras.datasets.cifar10.load_data()\n",
    "x_train = x_train / 255.0\n",
    "x_test = x_test / 255.0\n",
    "\n",
    "tuner.search(x_train, y_train,\n",
    "             epochs=10,\n",
    "             validation_split=0.2,\n",
    "             verbose=1)"
   ]
  },
  {
   "cell_type": "code",
   "execution_count": 13,
   "id": "e3ceddb7",
   "metadata": {},
   "outputs": [
    {
     "name": "stdout",
     "output_type": "stream",
     "text": [
      "Epoch 1/10\n",
      "1407/1407 [==============================] - 6s 4ms/step - loss: 1.4945 - accuracy: 0.4823 - val_loss: 1.1980 - val_accuracy: 0.5644\n",
      "Epoch 2/10\n",
      "1407/1407 [==============================] - 6s 4ms/step - loss: 1.1124 - accuracy: 0.6101 - val_loss: 0.9927 - val_accuracy: 0.6568\n",
      "Epoch 3/10\n",
      "1407/1407 [==============================] - 5s 4ms/step - loss: 0.9440 - accuracy: 0.6708 - val_loss: 0.9621 - val_accuracy: 0.6668\n",
      "Epoch 4/10\n",
      "1407/1407 [==============================] - 5s 4ms/step - loss: 0.8322 - accuracy: 0.7105 - val_loss: 0.8379 - val_accuracy: 0.7084\n",
      "Epoch 5/10\n",
      "1407/1407 [==============================] - 5s 4ms/step - loss: 0.7402 - accuracy: 0.7409 - val_loss: 0.8575 - val_accuracy: 0.7204\n",
      "Epoch 6/10\n",
      "1407/1407 [==============================] - 6s 4ms/step - loss: 0.6589 - accuracy: 0.7705 - val_loss: 0.8887 - val_accuracy: 0.7112\n",
      "Epoch 7/10\n",
      "1407/1407 [==============================] - 6s 4ms/step - loss: 0.5860 - accuracy: 0.7964 - val_loss: 1.0071 - val_accuracy: 0.6698\n",
      "Epoch 8/10\n",
      "1407/1407 [==============================] - 5s 4ms/step - loss: 0.5290 - accuracy: 0.8142 - val_loss: 1.3823 - val_accuracy: 0.5868\n",
      "Epoch 9/10\n",
      "1407/1407 [==============================] - 6s 4ms/step - loss: 0.4805 - accuracy: 0.8317 - val_loss: 1.0646 - val_accuracy: 0.7120\n",
      "Epoch 10/10\n",
      "1407/1407 [==============================] - 5s 4ms/step - loss: 0.4374 - accuracy: 0.8480 - val_loss: 0.8724 - val_accuracy: 0.7372\n",
      "INFO:tensorflow:Assets written to: saved_cifar10_model/assets\n"
     ]
    }
   ],
   "source": [
    "#Step 4: 최적 모델로 학습 & 저장\n",
    "best_hp = tuner.get_best_hyperparameters(1)[0]\n",
    "\n",
    "# 최적 하이퍼파라미터로 새 모델 생성\n",
    "model = build_model(best_hp)\n",
    "\n",
    "# 재학습 (전체 데이터 사용)\n",
    "model.fit(x_train, y_train, epochs=10, validation_split=0.1)\n",
    "\n",
    "# SavedModel 형식으로 저장\n",
    "model.save('saved_cifar10_model')"
   ]
  },
  {
   "cell_type": "code",
   "execution_count": null,
   "id": "dbbab968",
   "metadata": {},
   "outputs": [],
   "source": []
  }
 ],
 "metadata": {
  "kernelspec": {
   "display_name": "Python 3 (ipykernel)",
   "language": "python",
   "name": "python3"
  },
  "language_info": {
   "codemirror_mode": {
    "name": "ipython",
    "version": 3
   },
   "file_extension": ".py",
   "mimetype": "text/x-python",
   "name": "python",
   "nbconvert_exporter": "python",
   "pygments_lexer": "ipython3",
   "version": "3.9.7"
  }
 },
 "nbformat": 4,
 "nbformat_minor": 5
}
